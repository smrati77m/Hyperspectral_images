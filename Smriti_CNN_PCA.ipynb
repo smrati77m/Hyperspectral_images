{
  "nbformat": 4,
  "nbformat_minor": 0,
  "metadata": {
    "colab": {
      "name": "PCA_CNN.ipynb",
      "provenance": []
    },
    "kernelspec": {
      "name": "python3",
      "display_name": "Python 3"
    },
    "language_info": {
      "name": "python"
    }
  },
  "cells": [
    {
      "cell_type": "code",
      "metadata": {
        "id": "k5fPbp44mTUB"
      },
      "source": [
        "import numpy as np\n",
        "from sklearn.decomposition import PCA\n",
        "import scipy.io as sio\n",
        "from sklearn.model_selection import train_test_split\n",
        "from sklearn import preprocessing\n",
        "import os\n",
        "import random\n",
        "from random import shuffle\n",
        "from skimage.transform import rotate\n",
        "import scipy.ndimage"
      ],
      "execution_count": 15,
      "outputs": []
    },
    {
      "cell_type": "code",
      "metadata": {
        "id": "UhdUw-HAtAFW"
      },
      "source": [
        "def loadIndianPinesData():\n",
        "    data_path = os.path.join(os.getcwd(),'Data')\n",
        "    data = sio.loadmat(os.path.join(data_path, 'Indian_pines_corrected.mat'))['indian_pines_corrected']\n",
        "    labels = sio.loadmat(os.path.join(data_path, 'Indian_pines_gt.mat'))['indian_pines_gt']\n",
        "    \n",
        "    return data, labels"
      ],
      "execution_count": 16,
      "outputs": []
    },
    {
      "cell_type": "code",
      "metadata": {
        "id": "QYkZmoWVtCsw"
      },
      "source": [
        "def splitTrainTestSet(X, y, testRatio=0.10):\n",
        "    X_train, X_test, y_train, y_test = train_test_split(X, y, test_size=testRatio, random_state=345,\n",
        "                                                        stratify=y)\n",
        "    return X_train, X_test, y_train, y_test"
      ],
      "execution_count": 17,
      "outputs": []
    },
    {
      "cell_type": "code",
      "metadata": {
        "id": "gv6OLrf3tEfW"
      },
      "source": [
        "def oversampleWeakClasses(X, y):\n",
        "    uniqueLabels, labelCounts = np.unique(y, return_counts=True)\n",
        "    maxCount = np.max(labelCounts)\n",
        "    labelInverseRatios = maxCount / labelCounts  \n",
        "    # repeat for every label and concat\n",
        "    newX = X[y == uniqueLabels[0], :, :, :].repeat(round(labelInverseRatios[0]), axis=0)\n",
        "    newY = y[y == uniqueLabels[0]].repeat(round(labelInverseRatios[0]), axis=0)\n",
        "    for label, labelInverseRatio in zip(uniqueLabels[1:], labelInverseRatios[1:]):\n",
        "        cX = X[y== label,:,:,:].repeat(round(labelInverseRatio), axis=0)\n",
        "        cY = y[y == label].repeat(round(labelInverseRatio), axis=0)\n",
        "        newX = np.concatenate((newX, cX))\n",
        "        newY = np.concatenate((newY, cY))\n",
        "    np.random.seed(seed=42)\n",
        "    rand_perm = np.random.permutation(newY.shape[0])\n",
        "    newX = newX[rand_perm, :, :, :]\n",
        "    newY = newY[rand_perm]\n",
        "    return newX, newY"
      ],
      "execution_count": 18,
      "outputs": []
    },
    {
      "cell_type": "code",
      "metadata": {
        "id": "Ra95zNGktGIS"
      },
      "source": [
        "def standartizeData(X):\n",
        "    newX = np.reshape(X, (-1, X.shape[2]))\n",
        "    scaler = preprocessing.StandardScaler().fit(newX)  \n",
        "    newX = scaler.transform(newX)\n",
        "    newX = np.reshape(newX, (X.shape[0],X.shape[1],X.shape[2]))\n",
        "    return newX, scaler"
      ],
      "execution_count": 19,
      "outputs": []
    },
    {
      "cell_type": "code",
      "metadata": {
        "id": "uwyKlNMwtH_x"
      },
      "source": [
        "def applyPCA(X, numComponents=75):\n",
        "    newX = np.reshape(X, (-1, X.shape[2]))\n",
        "    pca = PCA(n_components=numComponents, whiten=True)\n",
        "    newX = pca.fit_transform(newX)\n",
        "    newX = np.reshape(newX, (X.shape[0],X.shape[1], numComponents))\n",
        "    return newX, pca"
      ],
      "execution_count": 20,
      "outputs": []
    },
    {
      "cell_type": "code",
      "metadata": {
        "id": "m28FjBIdtJzB"
      },
      "source": [
        "def padWithZeros(X, margin=2):\n",
        "    newX = np.zeros((X.shape[0] + 2 * margin, X.shape[1] + 2* margin, X.shape[2]))\n",
        "    x_offset = margin\n",
        "    y_offset = margin\n",
        "    newX[x_offset:X.shape[0] + x_offset, y_offset:X.shape[1] + y_offset, :] = X\n",
        "    return newX"
      ],
      "execution_count": 21,
      "outputs": []
    },
    {
      "cell_type": "code",
      "metadata": {
        "id": "xK8QMedHtLWc"
      },
      "source": [
        "def createPatches(X, y, windowSize=5, removeZeroLabels = True):\n",
        "    margin = int((windowSize - 1) / 2)\n",
        "    zeroPaddedX = padWithZeros(X, margin=margin)\n",
        "    # split patches\n",
        "    patchesData = np.zeros((X.shape[0] * X.shape[1], windowSize, windowSize, X.shape[2]))\n",
        "    patchesLabels = np.zeros((X.shape[0] * X.shape[1]))\n",
        "    patchIndex = 0\n",
        "    for r in range(margin, zeroPaddedX.shape[0] - margin):\n",
        "        for c in range(margin, zeroPaddedX.shape[1] - margin):\n",
        "            patch = zeroPaddedX[r - margin:r + margin + 1, c - margin:c + margin + 1]   \n",
        "            patchesData[patchIndex, :, :, :] = patch\n",
        "            patchesLabels[patchIndex] = y[r-margin, c-margin]\n",
        "            patchIndex = patchIndex + 1\n",
        "    if removeZeroLabels:\n",
        "        patchesData = patchesData[patchesLabels>0,:,:,:]\n",
        "        patchesLabels = patchesLabels[patchesLabels>0]\n",
        "        patchesLabels -= 1\n",
        "    return patchesData, patchesLabels"
      ],
      "execution_count": 22,
      "outputs": []
    },
    {
      "cell_type": "code",
      "metadata": {
        "id": "3M8ZJU1GtNU6"
      },
      "source": [
        "def AugmentData(X_train):\n",
        "    for i in range(int(X_train.shape[0]/2)):\n",
        "        patch = X_train[i,:,:,:]\n",
        "        num = random.randint(0,2)\n",
        "        if (num == 0):\n",
        "            \n",
        "            flipped_patch = np.flipud(patch)\n",
        "        if (num == 1):\n",
        "            \n",
        "            flipped_patch = np.fliplr(patch)\n",
        "        if (num == 2):\n",
        "            \n",
        "            no = random.randrange(-180,180,30)\n",
        "            flipped_patch = scipy.ndimage.interpolation.rotate(patch, no,axes=(1, 0),\n",
        "                                                               reshape=False, output=None, order=3, mode='constant', cval=0.0, prefilter=False)\n",
        "    \n",
        "    \n",
        "    patch2 = flipped_patch\n",
        "    X_train[i,:,:,:] = patch2\n",
        "    \n",
        "    return X_train"
      ],
      "execution_count": 23,
      "outputs": []
    },
    {
      "cell_type": "code",
      "metadata": {
        "id": "7c5mHfFPtQiB"
      },
      "source": [
        "def savePreprocessedData(X_trainPatches, X_testPatches, y_trainPatches, y_testPatches, windowSize, wasPCAapplied = False, numPCAComponents = 0, testRatio = 0.25):\n",
        "    if wasPCAapplied:\n",
        "        with open(\"/home/deeplearning/Desktop/GITHUB/XtrainWindowSize\" + str(windowSize) + \"PCA\" + str(numPCAComponents) + \"testRatio\" + str(testRatio) + \".npy\", 'bw') as outfile:\n",
        "            np.save(outfile, X_trainPatches)\n",
        "        with open(\"/home/deeplearning/Desktop/GITHUB/XtestWindowSize\" + str(windowSize) + \"PCA\" + str(numPCAComponents) + \"testRatio\" + str(testRatio) + \".npy\", 'bw') as outfile:\n",
        "            np.save(outfile, X_testPatches)\n",
        "        with open(\"/home/deeplearning/Desktop/GITHUB/ytrainWindowSize\" + str(windowSize) + \"PCA\" + str(numPCAComponents) + \"testRatio\" + str(testRatio) + \".npy\", 'bw') as outfile:\n",
        "            np.save(outfile, y_trainPatches)\n",
        "        with open(\"/home/deeplearning/Desktop/GITHUB/ytestWindowSize\" + str(windowSize) + \"PCA\" + str(numPCAComponents) + \"testRatio\" + str(testRatio) + \".npy\", 'bw') as outfile:\n",
        "            np.save(outfile, y_testPatches)\n",
        "    else:\n",
        "        with open(\"../preprocessedData/XtrainWindowSize\" + str(windowSize) + \".npy\", 'bw') as outfile:\n",
        "            np.save(outfile, X_trainPatches)\n",
        "        with open(\"../preprocessedData/XtestWindowSize\" + str(windowSize) + \".npy\", 'bw') as outfile:\n",
        "            np.save(outfile, X_testPatches)\n",
        "        with open(\"../preprocessedData/ytrainWindowSize\" + str(windowSize) + \".npy\", 'bw') as outfile:\n",
        "            np.save(outfile, y_trainPatches)\n",
        "        with open(\"../preprocessedData/ytestWindowSize\" + str(windowSize) + \".npy\", 'bw') as outfile:\n",
        "            np.save(outfile, y_testPatches)"
      ],
      "execution_count": 24,
      "outputs": []
    },
    {
      "cell_type": "code",
      "metadata": {
        "colab": {
          "base_uri": "https://localhost:8080/"
        },
        "id": "hMnID9U3tSWR",
        "outputId": "619ed4db-750b-45c6-be8f-1eacc6ae9846"
      },
      "source": [
        "print(os.path)"
      ],
      "execution_count": 25,
      "outputs": [
        {
          "output_type": "stream",
          "text": [
            "<module 'posixpath' from '/usr/lib/python3.7/posixpath.py'>\n"
          ],
          "name": "stdout"
        }
      ]
    },
    {
      "cell_type": "code",
      "metadata": {
        "id": "8_0gNAGwtX9e"
      },
      "source": [
        "X, y = loadIndianPinesData()"
      ],
      "execution_count": null,
      "outputs": []
    },
    {
      "cell_type": "code",
      "metadata": {
        "id": "KNYOMeHhvrcn"
      },
      "source": [
        "numComponents = 30\n",
        "windowSize = 5\n",
        "testRatio = 0.25"
      ],
      "execution_count": null,
      "outputs": []
    },
    {
      "cell_type": "code",
      "metadata": {
        "id": "dKWOYwpQtgb1"
      },
      "source": [
        "X,pca = applyPCA(X,numComponents=numComponents)"
      ],
      "execution_count": null,
      "outputs": []
    },
    {
      "cell_type": "code",
      "metadata": {
        "id": "oRlLKGupvn_U"
      },
      "source": [
        "XPatches, yPatches = createPatches(X, y, windowSize=windowSize)"
      ],
      "execution_count": null,
      "outputs": []
    },
    {
      "cell_type": "code",
      "metadata": {
        "id": "D_WPScvivxM8"
      },
      "source": [
        "X_train, X_test, y_train, y_test = splitTrainTestSet(XPatches, yPatches, testRatio)"
      ],
      "execution_count": null,
      "outputs": []
    },
    {
      "cell_type": "code",
      "metadata": {
        "id": "cKPnRaxjvzBt"
      },
      "source": [
        "X_train, y_train = oversampleWeakClasses(X_train, y_train)"
      ],
      "execution_count": null,
      "outputs": []
    },
    {
      "cell_type": "code",
      "metadata": {
        "id": "euOTGh3bv0hh"
      },
      "source": [
        "X_train = AugmentData(X_train)"
      ],
      "execution_count": null,
      "outputs": []
    },
    {
      "cell_type": "code",
      "metadata": {
        "id": "bj8VxVuJv2H9"
      },
      "source": [
        "savePreprocessedData(X_train, X_test, y_train, y_test, windowSize = windowSize, \n",
        "                     wasPCAapplied=True, numPCAComponents = numComponents,testRatio = testRatio)"
      ],
      "execution_count": null,
      "outputs": []
    },
    {
      "cell_type": "code",
      "metadata": {
        "id": "WQSbxRpRv5Ey"
      },
      "source": [
        "import numpy as np\n",
        "import scipy\n",
        "import os\n",
        "from keras.models import Sequential\n",
        "from keras.layers import Dense, Dropout, Flatten\n",
        "from keras.layers import Conv2D, MaxPooling2D\n",
        "from keras.optimizers import SGD\n",
        "from keras import backend as K\n",
        "K.image_data_format()=='th'\n",
        "from keras.utils import np_utils\n",
        "#from sklearn.cross_validation import StratifiedKFold"
      ],
      "execution_count": null,
      "outputs": []
    },
    {
      "cell_type": "code",
      "metadata": {
        "id": "B9x-zay024ht"
      },
      "source": [
        "PATH = os.getcwd()\n",
        "print (PATH)"
      ],
      "execution_count": null,
      "outputs": []
    },
    {
      "cell_type": "code",
      "metadata": {
        "id": "no7evfyJ4x5e"
      },
      "source": [
        "# Load the Global values (windowSize, numPCAcomponents, testRatio) from the text file global_variables.txt\n",
        "myFile = open('global_variables.txt', 'r') \n",
        "file = myFile.readlines()[:]\n",
        "\n",
        "\n",
        "for line in file:\n",
        "\n",
        "    if line[0:3] == \"win\":\n",
        "\n",
        "        ds = line.find('=')\n",
        "        windowSize = int(line[ds+1:-1],10)\n",
        "\n",
        "    elif line[0:3] == \"num\":\n",
        "\n",
        "        ds = line.find('=')\n",
        "        numPCAcomponents = int(line[ds+2:-1],10)\n",
        "\n",
        "    else:\n",
        "\n",
        "        ds = line.find('=')\n",
        "        testRatio = float(line[ds+1:])"
      ],
      "execution_count": null,
      "outputs": []
    },
    {
      "cell_type": "code",
      "metadata": {
        "id": "ABnYWBAg44x4"
      },
      "source": [
        "X_train = np.load(\"/home/deeplearning/Desktop/GITHUB/XtrainWindowSize\" + str(windowSize) + \"PCA\" + str(numPCAcomponents) + \"testRatio\" + str(testRatio)  + \".npy\")\n",
        "\n",
        "y_train = np.load(\"/home/deeplearning/Desktop/GITHUB/ytrainWindowSize\" + str(windowSize) + \"PCA\" + str(numPCAcomponents) + \"testRatio\" + str(testRatio) + \".npy\")"
      ],
      "execution_count": null,
      "outputs": []
    },
    {
      "cell_type": "code",
      "metadata": {
        "id": "zEG-x9_J47bW"
      },
      "source": [
        "X_train = np.reshape(X_train, (X_train.shape[0],X_train.shape[3], X_train.shape[1], X_train.shape[2]))"
      ],
      "execution_count": null,
      "outputs": []
    },
    {
      "cell_type": "code",
      "metadata": {
        "id": "377R9Pv6JcEp"
      },
      "source": [
        "y_train = np_utils.to_categorical(y_train)"
      ],
      "execution_count": null,
      "outputs": []
    },
    {
      "cell_type": "code",
      "metadata": {
        "id": "nTyePZpAJdrN"
      },
      "source": [
        "input_shape= X_train[0].shape\n",
        "print(input_shape)"
      ],
      "execution_count": null,
      "outputs": []
    },
    {
      "cell_type": "code",
      "metadata": {
        "id": "qvPGkfkzJfUc"
      },
      "source": [
        "# number of filters\n",
        "C1 = 3*numPCAcomponents"
      ],
      "execution_count": null,
      "outputs": []
    },
    {
      "cell_type": "code",
      "metadata": {
        "id": "lQ_XoCA0JhOX"
      },
      "source": [
        "# Define the model\n",
        "model = Sequential()\n",
        "\n",
        "model.add(Conv2D(C1, (3, 3), activation='relu', input_shape=input_shape))\n",
        "model.add(Conv2D(3*C1, (3, 3), activation='relu'))\n",
        "model.add(Dropout(0.25))\n",
        "\n",
        "\n",
        "\n",
        "model.add(Flatten())\n",
        "model.add(Dense(6*numPCAcomponents, activation='relu'))\n",
        "model.add(Dropout(0.5))\n",
        "model.add(Dense(16, activation='softmax'))"
      ],
      "execution_count": null,
      "outputs": []
    },
    {
      "cell_type": "code",
      "metadata": {
        "id": "vh_-EZSGJjcR"
      },
      "source": [
        "sgd = SGD(lr=0.0001, decay=1e-6, momentum=0.9, nesterov=True)\n",
        "model.compile(loss='categorical_crossentropy', optimizer=sgd, metrics=['accuracy'])"
      ],
      "execution_count": null,
      "outputs": []
    },
    {
      "cell_type": "code",
      "metadata": {
        "id": "_Uj0kaQwJlsF"
      },
      "source": [
        "model.fit(X_train, y_train, batch_size=32, epochs=15)"
      ],
      "execution_count": null,
      "outputs": []
    },
    {
      "cell_type": "code",
      "metadata": {
        "id": "ZmDk4VjIJncK"
      },
      "source": [
        "import h5py\n",
        "from keras.models import load_model"
      ],
      "execution_count": null,
      "outputs": []
    },
    {
      "cell_type": "code",
      "metadata": {
        "id": "T5ifdRIGMbEj"
      },
      "source": [
        "model.save('my_model' + str(windowSize) + 'PCA' + str(numPCAcomponents) + \"testRatio\" + str(testRatio) + '.h5')"
      ],
      "execution_count": null,
      "outputs": []
    },
    {
      "cell_type": "code",
      "metadata": {
        "colab": {
          "base_uri": "https://localhost:8080/"
        },
        "id": "1Hl2J9KoMdrc",
        "outputId": "f97d4579-1b6b-4ced-b8f2-7dc8e08592f9"
      },
      "source": [
        "# Import the necessary libraries\n",
        "from sklearn.decomposition import PCA\n",
        "import os\n",
        "import scipy.io as sio\n",
        "import numpy as np\n",
        "from keras.models import load_model\n",
        "from keras.utils import np_utils\n",
        "from sklearn.metrics import classification_report, confusion_matrix\n",
        "import itertools\n",
        "!pip install spectral\n",
        "import spectral\n",
        "import matplotlib\n",
        "%matplotlib inline"
      ],
      "execution_count": null,
      "outputs": [
        {
          "output_type": "stream",
          "text": [
            "Collecting spectral\n",
            "\u001b[?25l  Downloading https://files.pythonhosted.org/packages/4f/9b/db2e160f891441b2f576e31caaa93c283ce5f82d625173830abd7ab3cbc3/spectral-0.22.2.tar.gz (184kB)\n",
            "\r\u001b[K     |█▉                              | 10kB 17.8MB/s eta 0:00:01\r\u001b[K     |███▋                            | 20kB 18.3MB/s eta 0:00:01\r\u001b[K     |█████▍                          | 30kB 15.0MB/s eta 0:00:01\r\u001b[K     |███████▏                        | 40kB 13.8MB/s eta 0:00:01\r\u001b[K     |█████████                       | 51kB 7.8MB/s eta 0:00:01\r\u001b[K     |██████████▊                     | 61kB 7.5MB/s eta 0:00:01\r\u001b[K     |████████████▌                   | 71kB 8.4MB/s eta 0:00:01\r\u001b[K     |██████████████▎                 | 81kB 8.8MB/s eta 0:00:01\r\u001b[K     |████████████████                | 92kB 9.2MB/s eta 0:00:01\r\u001b[K     |█████████████████▉              | 102kB 7.6MB/s eta 0:00:01\r\u001b[K     |███████████████████▋            | 112kB 7.6MB/s eta 0:00:01\r\u001b[K     |█████████████████████▍          | 122kB 7.6MB/s eta 0:00:01\r\u001b[K     |███████████████████████▏        | 133kB 7.6MB/s eta 0:00:01\r\u001b[K     |█████████████████████████       | 143kB 7.6MB/s eta 0:00:01\r\u001b[K     |██████████████████████████▊     | 153kB 7.6MB/s eta 0:00:01\r\u001b[K     |████████████████████████████▌   | 163kB 7.6MB/s eta 0:00:01\r\u001b[K     |██████████████████████████████▎ | 174kB 7.6MB/s eta 0:00:01\r\u001b[K     |████████████████████████████████| 184kB 7.6MB/s \n",
            "\u001b[?25hRequirement already satisfied: numpy in /usr/local/lib/python3.7/dist-packages (from spectral) (1.19.5)\n",
            "Building wheels for collected packages: spectral\n",
            "  Building wheel for spectral (setup.py) ... \u001b[?25l\u001b[?25hdone\n",
            "  Created wheel for spectral: filename=spectral-0.22.2-cp37-none-any.whl size=212938 sha256=7cf0ce030c35245e5e68e07e332ee2e2d819674d1ce71d538b8448c4a804f47a\n",
            "  Stored in directory: /root/.cache/pip/wheels/fb/00/da/ac778d1ab6e196cb7f56d104d4dfdfc0aad4e2b208275c0726\n",
            "Successfully built spectral\n",
            "Installing collected packages: spectral\n",
            "Successfully installed spectral-0.22.2\n"
          ],
          "name": "stdout"
        }
      ]
    },
    {
      "cell_type": "code",
      "metadata": {
        "id": "1uD5aC3iMu7C"
      },
      "source": [
        "def loadIndianPinesData():\n",
        "    data_path = os.path.join(os.getcwd(),'Data')\n",
        "    data = sio.loadmat(os.path.join(data_path, 'Indian_pines_corrected.mat'))['indian_pines_corrected']\n",
        "    labels = sio.loadmat(os.path.join(data_path, 'Indian_pines_gt.mat'))['indian_pines_gt']\n",
        "    \n",
        "    return data, labels\n",
        "\n",
        "def reports (X_test,y_test):\n",
        "    Y_pred = model.predict(X_test)\n",
        "    y_pred = np.argmax(Y_pred, axis=1)\n",
        "    target_names = ['Alfalfa', 'Corn-notill', 'Corn-mintill', 'Corn'\n",
        "               ,'Grass-pasture', 'Grass-trees', 'Grass-pasture-mowed', \n",
        "                'Hay-windrowed', 'Oats', 'Soybean-notill', 'Soybean-mintill',\n",
        "               'Soybean-clean', 'Wheat', 'Woods', 'Buildings-Grass-Trees-Drives',\n",
        "               'Stone-Steel-Towers']\n",
        "    classification = classification_report(np.argmax(y_test, axis=1), y_pred, target_names=target_names)\n",
        "    confusion = confusion_matrix(np.argmax(y_test, axis=1), y_pred)\n",
        "    score = model.evaluate(X_test, y_test, batch_size=32)\n",
        "    Test_Loss =  score[0]*100\n",
        "    Test_accuracy = score[1]*100\n",
        "    \n",
        "    return classification, confusion, Test_Loss, Test_accuracy\n",
        "\n",
        "\n",
        "def applyPCA(X, numPCAcomponents=75):\n",
        "    newX = np.reshape(X, (-1, X.shape[2]))\n",
        "    pca = PCA(n_components=numPCAcomponents, whiten=True)\n",
        "    newX = pca.fit_transform(newX)\n",
        "    newX = np.reshape(newX, (X.shape[0],X.shape[1], numPCAcomponents))\n",
        "    return newX, pca\n",
        "\n",
        "def Patch(data,height_index,width_index):\n",
        "    #transpose_array = data.transpose((2,0,1))\n",
        "    #print transpose_array.shape\n",
        "    height_slice = slice(height_index, height_index+PATCH_SIZE)\n",
        "    width_slice = slice(width_index, width_index+PATCH_SIZE)\n",
        "    patch = data[height_slice, width_slice, :]\n",
        "    \n",
        "    return patch"
      ],
      "execution_count": 13,
      "outputs": []
    },
    {
      "cell_type": "code",
      "metadata": {
        "id": "3ZNbz7zhNLUi"
      },
      "source": [
        "model = load_model('my_model' + str(windowSize) + 'PCA' + str(numPCAcomponents) + \"testRatio\" + str(testRatio) + '.h5')"
      ],
      "execution_count": null,
      "outputs": []
    },
    {
      "cell_type": "code",
      "metadata": {
        "id": "7f0Fd_ATOMiy"
      },
      "source": [
        "height = y.shape[0]\n",
        "width = y.shape[1]\n",
        "PATCH_SIZE = windowSize\n",
        "numPCAcomponents = numPCAcomponents"
      ],
      "execution_count": null,
      "outputs": []
    },
    {
      "cell_type": "code",
      "metadata": {
        "colab": {
          "base_uri": "https://localhost:8080/"
        },
        "id": "DvKR2YT6NXJ8",
        "outputId": "db21df12-c66e-45a2-d9ee-669813d92a91"
      },
      "source": [
        "# calculate the predicted image\n",
        "outputs = np.zeros((height,width))\n",
        "for i in range(height-PATCH_SIZE+1):\n",
        "    for j in range(width-PATCH_SIZE+1):\n",
        "        target = y[int(i+PATCH_SIZE/2), int(j+PATCH_SIZE/2)]\n",
        "        if target == 0 :\n",
        "            continue\n",
        "        else :\n",
        "            image_patch=Patch(X,i,j)\n",
        "            #print (image_patch.shape)\n",
        "            X_test_image = image_patch.reshape(1,image_patch.shape[2],image_patch.shape[0],image_patch.shape[1]).astype('float32')                                   \n",
        "            prediction = (model.predict_classes(X_test_image))                         \n",
        "            outputs[int(i+PATCH_SIZE/2)][int(j+PATCH_SIZE/2)] = prediction+1"
      ],
      "execution_count": null,
      "outputs": [
        {
          "output_type": "stream",
          "text": [
            "/usr/local/lib/python3.7/dist-packages/tensorflow/python/keras/engine/sequential.py:450: UserWarning: `model.predict_classes()` is deprecated and will be removed after 2021-01-01. Please use instead:* `np.argmax(model.predict(x), axis=-1)`,   if your model does multi-class classification   (e.g. if it uses a `softmax` last-layer activation).* `(model.predict(x) > 0.5).astype(\"int32\")`,   if your model does binary classification   (e.g. if it uses a `sigmoid` last-layer activation).\n",
            "  warnings.warn('`model.predict_classes()` is deprecated and '\n"
          ],
          "name": "stderr"
        }
      ]
    },
    {
      "cell_type": "code",
      "metadata": {
        "colab": {
          "base_uri": "https://localhost:8080/",
          "height": 322
        },
        "id": "RtSRXR5FOIwZ",
        "outputId": "789346e9-1e16-49c0-db73-ffc8e85dc5ae"
      },
      "source": [
        "# Plot the Ground Truth Image\n",
        "ground_truth = spectral.imshow(classes = y,figsize =(5,5))"
      ],
      "execution_count": null,
      "outputs": [
        {
          "output_type": "display_data",
          "data": {
            "image/png": "[encoded data removed]",
            "text/plain": [
              "<Figure size 360x360 with 1 Axes>"
            ]
          },
          "metadata": {
            "tags": [],
            "needs_background": "light"
          }
        }
      ]
    },
    {
      "cell_type": "code",
      "metadata": {
        "id": "QPuf7Z0tPlJW",
        "colab": {
          "base_uri": "https://localhost:8080/",
          "height": 322
        },
        "outputId": "efa95584-4e7e-4e04-d40e-cc93400614cb"
      },
      "source": [
        "# Plot the Predicted image\n",
        "predict_image = spectral.imshow(classes = outputs.astype(int),figsize =(5,5))"
      ],
      "execution_count": null,
      "outputs": [
        {
          "output_type": "display_data",
          "data": {
            "image/png": "[encoded data removed]",
            "text/plain": [
              "<Figure size 360x360 with 1 Axes>"
            ]
          },
          "metadata": {
            "tags": [],
            "needs_background": "light"
          }
        }
      ]
    },
    {
      "cell_type": "code",
      "metadata": {
        "id": "J2A136YLPqcJ"
      },
      "source": [
        "import numpy as np\n",
        "import h5py\n"
      ],
      "execution_count": 2,
      "outputs": []
    },
    {
      "cell_type": "code",
      "metadata": {
        "colab": {
          "base_uri": "https://localhost:8080/"
        },
        "id": "YUJ9CPAZuHyO",
        "outputId": "bad5cad0-6591-46da-bffe-c8a1655eac85"
      },
      "source": [
        "with h5py.File('my_model5PCA30testRatio0.25.h5','r')as f:\n",
        "  print(f.keys())\n",
        "  data=f['optimizer_weights']\n",
        "  print(data)"
      ],
      "execution_count": 11,
      "outputs": [
        {
          "output_type": "stream",
          "text": [
            "<KeysViewHDF5 ['model_weights', 'optimizer_weights']>\n",
            "<HDF5 group \"/optimizer_weights\" (1 members)>\n"
          ],
          "name": "stdout"
        }
      ]
    },
    {
      "cell_type": "code",
      "metadata": {
        "id": "Q9X5ekqGwpFA"
      },
      "source": [
        ""
      ],
      "execution_count": null,
      "outputs": []
    }
  ]
}